{
 "cells": [
  {
   "cell_type": "code",
   "execution_count": 10,
   "metadata": {},
   "outputs": [],
   "source": [
    "from IPython.core.interactiveshell import InteractiveShell\n",
    "InteractiveShell.ast_node_interactivity = 'all'"
   ]
  },
  {
   "cell_type": "code",
   "execution_count": 11,
   "metadata": {},
   "outputs": [],
   "source": [
    "import pandas as pd\n",
    "import numpy as np\n",
    "from math import sqrt, pow"
   ]
  },
  {
   "cell_type": "code",
   "execution_count": 12,
   "metadata": {},
   "outputs": [],
   "source": [
    "def euclidean_distance(row_a, row_b):\n",
    "\n",
    "    distance  = 0.0\n",
    "    \n",
    "    for index in range(0, (len(row_a) -1), 1):\n",
    "        distance += pow((row_b[index] - row_a[index]), 2)\n",
    "\n",
    "    euclidean_distance = sqrt(distance)\n",
    "\n",
    "    return euclidean_distance"
   ]
  },
  {
   "cell_type": "code",
   "execution_count": 13,
   "metadata": {},
   "outputs": [
    {
     "data": {
      "text/html": [
       "<div>\n",
       "<style scoped>\n",
       "    .dataframe tbody tr th:only-of-type {\n",
       "        vertical-align: middle;\n",
       "    }\n",
       "\n",
       "    .dataframe tbody tr th {\n",
       "        vertical-align: top;\n",
       "    }\n",
       "\n",
       "    .dataframe thead th {\n",
       "        text-align: right;\n",
       "    }\n",
       "</style>\n",
       "<table border=\"1\" class=\"dataframe\">\n",
       "  <thead>\n",
       "    <tr style=\"text-align: right;\">\n",
       "      <th></th>\n",
       "      <th>X1</th>\n",
       "      <th>X2</th>\n",
       "      <th>Y</th>\n",
       "    </tr>\n",
       "  </thead>\n",
       "  <tbody>\n",
       "    <tr>\n",
       "      <th>0</th>\n",
       "      <td>2.781084</td>\n",
       "      <td>2.550537</td>\n",
       "      <td>0</td>\n",
       "    </tr>\n",
       "    <tr>\n",
       "      <th>1</th>\n",
       "      <td>1.465489</td>\n",
       "      <td>2.362125</td>\n",
       "      <td>0</td>\n",
       "    </tr>\n",
       "    <tr>\n",
       "      <th>2</th>\n",
       "      <td>3.396562</td>\n",
       "      <td>4.400294</td>\n",
       "      <td>0</td>\n",
       "    </tr>\n",
       "    <tr>\n",
       "      <th>3</th>\n",
       "      <td>3.064072</td>\n",
       "      <td>3.005306</td>\n",
       "      <td>0</td>\n",
       "    </tr>\n",
       "    <tr>\n",
       "      <th>4</th>\n",
       "      <td>1.388070</td>\n",
       "      <td>1.850220</td>\n",
       "      <td>0</td>\n",
       "    </tr>\n",
       "  </tbody>\n",
       "</table>\n",
       "</div>"
      ],
      "text/plain": [
       "         X1        X2  Y\n",
       "0  2.781084  2.550537  0\n",
       "1  1.465489  2.362125  0\n",
       "2  3.396562  4.400294  0\n",
       "3  3.064072  3.005306  0\n",
       "4  1.388070  1.850220  0"
      ]
     },
     "execution_count": 13,
     "metadata": {},
     "output_type": "execute_result"
    }
   ],
   "source": [
    "dummy_coords = [\n",
    "                    [2.7810836, 2.550537003, 0],\n",
    "                    [1.465489372, 2.362125076, 0],\n",
    "                    [3.396561688, 4.400293529, 0],\n",
    "                    [3.06407232, 3.005305973, 0],\n",
    "                    [1.38807019, 1.850220317, 0],\n",
    "                    [7.627531214, 2.759262235, 1],\n",
    "                    [5.332441248, 2.088626775, 1],\n",
    "                    [6.922596716, 1.77106367, 1],\n",
    "                    [8.675418651, -0.242068655, 1],\n",
    "                    [7.673756466, 3.508563011, 1]\n",
    "                ]\n",
    "dummy_df = pd.DataFrame(dummy_coords, columns = ['X1', 'X2', 'Y'])\n",
    "dummy_df.head()"
   ]
  },
  {
   "cell_type": "code",
   "execution_count": 14,
   "metadata": {},
   "outputs": [
    {
     "name": "stdout",
     "output_type": "stream",
     "text": [
      "Euclidean distance 0.0\n",
      "Euclidean distance 1.3290173915275787\n",
      "Euclidean distance 1.9494646655653247\n",
      "Euclidean distance 0.5356280721938492\n",
      "Euclidean distance 1.5591439385540549\n",
      "Euclidean distance 4.850940186986411\n",
      "Euclidean distance 2.592833759950511\n",
      "Euclidean distance 4.214227042632867\n",
      "Euclidean distance 6.522409988228337\n",
      "Euclidean distance 4.985585382449795\n"
     ]
    }
   ],
   "source": [
    "## Validate: Test euclidean_distance function\n",
    "zeroth_row = dummy_df.iloc[0]\n",
    "distances = []\n",
    "\n",
    "for ith_row in range(0, dummy_df.shape[0], 1):\n",
    "    \n",
    "    computed_euclidean_distance = euclidean_distance(zeroth_row, dummy_df.iloc[ith_row])\n",
    "    print(\"Euclidean distance {a}\".format(a = computed_euclidean_distance) )\n",
    "    \n",
    "    distances.append((computed_euclidean_distance, ith_row))    "
   ]
  },
  {
   "cell_type": "code",
   "execution_count": 15,
   "metadata": {},
   "outputs": [
    {
     "data": {
      "text/plain": [
       "[(0.0, 0),\n",
       " (0.5356280721938492, 3),\n",
       " (1.3290173915275787, 1),\n",
       " (1.5591439385540549, 4),\n",
       " (1.9494646655653247, 2),\n",
       " (2.592833759950511, 6),\n",
       " (4.214227042632867, 7),\n",
       " (4.850940186986411, 5),\n",
       " (4.985585382449795, 9),\n",
       " (6.522409988228337, 8)]"
      ]
     },
     "execution_count": 15,
     "metadata": {},
     "output_type": "execute_result"
    }
   ],
   "source": [
    "sorted_distances = sorted(distances, key = lambda x: x[0])\n",
    "sorted_distances"
   ]
  },
  {
   "cell_type": "code",
   "execution_count": 16,
   "metadata": {},
   "outputs": [],
   "source": [
    "def get_k_nn(similiar_records, k = 5):\n",
    "    \n",
    "    if (similiar_records is None or len(similiar_records) == 0):\n",
    "        return (False, False)\n",
    "    else:\n",
    "        return (True, similiar_records[:k])"
   ]
  },
  {
   "cell_type": "code",
   "execution_count": 17,
   "metadata": {},
   "outputs": [],
   "source": [
    "is_similiar_records_valid, k_nn_list = get_k_nn(sorted_distances)"
   ]
  },
  {
   "cell_type": "code",
   "execution_count": 19,
   "metadata": {},
   "outputs": [
    {
     "data": {
      "text/plain": [
       "[distance    0.000000\n",
       " X1          2.781084\n",
       " X2          2.550537\n",
       " Y           0.000000\n",
       " dtype: float64,\n",
       " distance    0.535628\n",
       " X1          3.064072\n",
       " X2          3.005306\n",
       " Y           0.000000\n",
       " dtype: float64,\n",
       " distance    1.329017\n",
       " X1          1.465489\n",
       " X2          2.362125\n",
       " Y           0.000000\n",
       " dtype: float64,\n",
       " distance    1.559144\n",
       " X1          1.388070\n",
       " X2          1.850220\n",
       " Y           0.000000\n",
       " dtype: float64,\n",
       " distance    1.949465\n",
       " X1          3.396562\n",
       " X2          4.400294\n",
       " Y           0.000000\n",
       " dtype: float64]"
      ]
     },
     "execution_count": 19,
     "metadata": {},
     "output_type": "execute_result"
    }
   ],
   "source": [
    "if not is_similiar_records_valid:\n",
    "    print('Invalid similiar records')\n",
    "else:\n",
    "    k_nns = []\n",
    "    for distance, record_index in k_nn_list:\n",
    "        series_i = pd.Series([distance], index = ['distance'])\n",
    "        series_ii = dummy_df.iloc[record_index]       \n",
    "        k_nns.append(pd.concat([series_i, series_ii]))\n",
    "    k_nns"
   ]
  },
  {
   "cell_type": "code",
   "execution_count": null,
   "metadata": {},
   "outputs": [],
   "source": []
  }
 ],
 "metadata": {
  "kernelspec": {
   "display_name": "Python 3",
   "language": "python",
   "name": "python3"
  },
  "language_info": {
   "codemirror_mode": {
    "name": "ipython",
    "version": 3
   },
   "file_extension": ".py",
   "mimetype": "text/x-python",
   "name": "python",
   "nbconvert_exporter": "python",
   "pygments_lexer": "ipython3",
   "version": "3.7.0"
  }
 },
 "nbformat": 4,
 "nbformat_minor": 2
}
